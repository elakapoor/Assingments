{
 "cells": [
  {
   "cell_type": "markdown",
   "metadata": {},
   "source": [
    "# MATRIX EIGENVALUE PROBLEM : Write in your own words how does the EIG command work on pseudocode level (enough to explain the mathematics behind it). Also write out the main formulae in Jupyter Notebook."
   ]
  },
  {
   "cell_type": "markdown",
   "metadata": {},
   "source": [
    "Take a n * n matrix A where the eign vectors are denoted by $\\bar{x_i}$ and the corresponding eigen values denoted by $\\lambda_i$. To find the eigen value do the following steps:-"
   ]
  },
  {
   "cell_type": "markdown",
   "metadata": {},
   "source": [
    "1. Multiply a n * n scaler matrix by the scaler.\n",
    "2. Substract the identity matrix (I) multiple from the matrix A.\n",
    "3. Find the determinent of the matrix and difference.\n",
    "4. Solve the values of $\\lambda$ that satisfy the equation det(A -$\\lambda$I) = 0\n",
    "5. Solve for the corresponding vector to each $\\lambda$."
   ]
  },
  {
   "cell_type": "markdown",
   "metadata": {},
   "source": [
    "$$A ={\\begin{bmatrix} 0 & 1 \\\\ -2 & -3 \\end{bmatrix}}$$"
   ]
  },
  {
   "cell_type": "markdown",
   "metadata": {},
   "source": [
    "$$\\lambda I = \\lambda\\begin{bmatrix} 1 & 0 \\\\ 0 & 1 \\end{bmatrix}= \\begin{bmatrix}\\lambda & 0 \\\\ 0 & \\lambda \\end{bmatrix}$$"
   ]
  },
  {
   "cell_type": "markdown",
   "metadata": {},
   "source": [
    "$$A - \\lambda I ={\\begin{bmatrix} 0 & 1 \\\\ -2 & -3 \\end{bmatrix}} - {\\begin{bmatrix} \\lambda & 0 \\\\ 0 & \\lambda \\end{bmatrix}} $$"
   ]
  },
  {
   "cell_type": "markdown",
   "metadata": {},
   "source": [
    "$$ ={\\begin{bmatrix} 0 - \\lambda & 1 \\\\ -2 & -3 -\\lambda \\end{bmatrix}} $$"
   ]
  },
  {
   "cell_type": "markdown",
   "metadata": {},
   "source": [
    "$$det {\\begin{bmatrix} 0 - \\lambda & 1 \\\\ -2 & -3 -\\lambda \\end{bmatrix}} = (0 - \\lambda)(-3 -\\lambda) - (-2)(1) $$"
   ]
  },
  {
   "cell_type": "markdown",
   "metadata": {},
   "source": [
    "$$ = 0 - 0 + 3\\lambda + \\lambda ^ 2 + 2 $$"
   ]
  },
  {
   "cell_type": "markdown",
   "metadata": {},
   "source": [
    "$$ = \\lambda ^ 2 + 3\\lambda + 2 $$"
   ]
  },
  {
   "cell_type": "markdown",
   "metadata": {},
   "source": [
    "Let $$\\lambda ^ 2 + 3\\lambda + 2 = 0$$"
   ]
  },
  {
   "cell_type": "markdown",
   "metadata": {},
   "source": [
    "$$(\\lambda - 1)(\\lambda - 2) = 0 $$"
   ]
  },
  {
   "cell_type": "markdown",
   "metadata": {},
   "source": [
    "$$\\lambda = 1, 2$$"
   ]
  },
  {
   "cell_type": "markdown",
   "metadata": {},
   "source": [
    "The eign value as calculated from the above examples are 1 and 2"
   ]
  },
  {
   "cell_type": "markdown",
   "metadata": {},
   "source": [
    "# Replicate all the steps of https://sebastianraschka.com/Articles/2014_pca_step_by_step.html up to the end of point 5. "
   ]
  },
  {
   "cell_type": "code",
   "execution_count": 1,
   "metadata": {},
   "outputs": [],
   "source": [
    "import numpy as np\n",
    "\n",
    "#np.random.seed(234234782384239784) # random seed for consistency\n",
    "\n",
    "# A reader pointed out that Python 2.7 would raise a\n",
    "# \"ValueError: object of too small depth for desired array\".\n",
    "# This can be avoided by choosing a smaller random seed, e.g. 1\n",
    "# or by completely omitting this line, since I just used the random seed for\n",
    "# consistency.\n",
    "\n",
    "mu_vec1 = np.array([0,0,0])\n",
    "cov_mat1 = np.array([[1,0,0],[0,1,0],[0,0,1]])\n",
    "class1_sample = np.random.multivariate_normal(mu_vec1, cov_mat1, 20).T\n",
    "assert class1_sample.shape == (3,20), \"The matrix has not the dimensions 3x20\"\n",
    "\n",
    "mu_vec2 = np.array([1,1,1])\n",
    "cov_mat2 = np.array([[1,0,0],[0,1,0],[0,0,1]])\n",
    "class2_sample = np.random.multivariate_normal(mu_vec2, cov_mat2, 20).T\n",
    "assert class2_sample.shape == (3,20), \"The matrix has not the dimensions 3x20\""
   ]
  },
  {
   "cell_type": "code",
   "execution_count": 2,
   "metadata": {},
   "outputs": [],
   "source": [
    "all_samples = np.concatenate((class1_sample, class2_sample), axis=1)\n",
    "assert all_samples.shape == (3,40), \"The matrix has not the dimensions 3x40\""
   ]
  },
  {
   "cell_type": "code",
   "execution_count": 3,
   "metadata": {},
   "outputs": [
    {
     "name": "stdout",
     "output_type": "stream",
     "text": [
      "Mean Vector:\n",
      " [[0.66151097]\n",
      " [0.76910841]\n",
      " [0.44862261]]\n"
     ]
    }
   ],
   "source": [
    "mean_x = np.mean(all_samples[0,:])\n",
    "mean_y = np.mean(all_samples[1,:])\n",
    "mean_z = np.mean(all_samples[2,:])\n",
    "\n",
    "mean_vector = np.array([[mean_x],[mean_y],[mean_z]])\n",
    "\n",
    "print('Mean Vector:\\n', mean_vector)"
   ]
  },
  {
   "cell_type": "code",
   "execution_count": 4,
   "metadata": {},
   "outputs": [
    {
     "name": "stdout",
     "output_type": "stream",
     "text": [
      "Scatter Matrix:\n",
      " [[56.26679562 10.86536876 16.11178042]\n",
      " [10.86536876 40.17201471 18.94427015]\n",
      " [16.11178042 18.94427015 40.45856349]]\n"
     ]
    }
   ],
   "source": [
    "scatter_matrix = np.zeros((3,3))\n",
    "for i in range(all_samples.shape[1]):\n",
    "    scatter_matrix += (all_samples[:,i].reshape(3,1) - mean_vector).dot((all_samples[:,i].reshape(3,1) - mean_vector).T)\n",
    "print('Scatter Matrix:\\n', scatter_matrix)"
   ]
  },
  {
   "cell_type": "code",
   "execution_count": 5,
   "metadata": {},
   "outputs": [
    {
     "name": "stdout",
     "output_type": "stream",
     "text": [
      "Covariance Matrix:\n",
      " [[1.44273835 0.2785992  0.41312257]\n",
      " [0.2785992  1.03005166 0.48575052]\n",
      " [0.41312257 0.48575052 1.03739906]]\n"
     ]
    }
   ],
   "source": [
    "cov_mat = np.cov([all_samples[0,:],all_samples[1,:],all_samples[2,:]])\n",
    "print('Covariance Matrix:\\n', cov_mat)"
   ]
  },
  {
   "cell_type": "code",
   "execution_count": 6,
   "metadata": {},
   "outputs": [
    {
     "name": "stdout",
     "output_type": "stream",
     "text": [
      "Eigenvector 1: \n",
      "[[0.68050624]\n",
      " [0.48364062]\n",
      " [0.55045709]]\n",
      "Eigenvalue 1 from scatter matrix: 77.02160542068137\n",
      "Eigenvalue 1 from covariance matrix: 1.9749129595046506\n",
      "Scaling factor:  39.0\n",
      "----------------------------------------\n",
      "Eigenvector 2: \n",
      "[[ 0.71950243]\n",
      " [-0.58320842]\n",
      " [-0.37707318]]\n",
      "Eigenvalue 2 from scatter matrix: 39.01585339513366\n",
      "Eigenvalue 2 from covariance matrix: 1.0004064973111197\n",
      "Scaling factor:  38.99999999999999\n",
      "----------------------------------------\n",
      "Eigenvector 3: \n",
      "[[-0.1386633 ]\n",
      " [-0.65265587]\n",
      " [ 0.74485757]]\n",
      "Eigenvalue 3 from scatter matrix: 20.859915015491296\n",
      "Eigenvalue 3 from covariance matrix: 0.5348696157818278\n",
      "Scaling factor:  39.00000000000002\n",
      "----------------------------------------\n"
     ]
    }
   ],
   "source": [
    "# eigenvectors and eigenvalues for the from the scatter matrix\n",
    "eig_val_sc, eig_vec_sc = np.linalg.eig(scatter_matrix)\n",
    "\n",
    "# eigenvectors and eigenvalues for the from the covariance matrix\n",
    "eig_val_cov, eig_vec_cov = np.linalg.eig(cov_mat)\n",
    "\n",
    "for i in range(len(eig_val_sc)):\n",
    "    eigvec_sc = eig_vec_sc[:,i].reshape(1,3).T\n",
    "    eigvec_cov = eig_vec_cov[:,i].reshape(1,3).T\n",
    "    assert eigvec_sc.all() == eigvec_cov.all(), 'Eigenvectors are not identical'\n",
    "\n",
    "    print('Eigenvector {}: \\n{}'.format(i+1, eigvec_sc))\n",
    "    print('Eigenvalue {} from scatter matrix: {}'.format(i+1, eig_val_sc[i]))\n",
    "    print('Eigenvalue {} from covariance matrix: {}'.format(i+1, eig_val_cov[i]))\n",
    "    print('Scaling factor: ', eig_val_sc[i]/eig_val_cov[i])\n",
    "    print(40 * '-')"
   ]
  },
  {
   "cell_type": "code",
   "execution_count": 14,
   "metadata": {},
   "outputs": [],
   "source": [
    "for i in range(len(eig_val_sc)):\n",
    "    eigv = eig_vec_sc[:,i].reshape(1,3).T\n",
    "    np.testing.assert_array_almost_equal(scatter_matrix.dot(eigv), eig_val_sc[i] * eigv,\n",
    "                                         decimal=6, err_msg='', verbose=True)"
   ]
  },
  {
   "cell_type": "code",
   "execution_count": 15,
   "metadata": {},
   "outputs": [
    {
     "name": "stdout",
     "output_type": "stream",
     "text": [
      "Populating the interactive namespace from numpy and matplotlib\n"
     ]
    },
    {
     "data": {
      "image/png": "[encoded data removed]",
      "text/plain": [
       "<Figure size 504x504 with 1 Axes>"
      ]
     },
     "metadata": {
      "needs_background": "light"
     },
     "output_type": "display_data"
    }
   ],
   "source": [
    "%pylab inline\n",
    "\n",
    "from matplotlib import pyplot as plt\n",
    "from mpl_toolkits.mplot3d import Axes3D\n",
    "from mpl_toolkits.mplot3d import proj3d\n",
    "from matplotlib.patches import FancyArrowPatch\n",
    "\n",
    "\n",
    "class Arrow3D(FancyArrowPatch):\n",
    "    def __init__(self, xs, ys, zs, *args, **kwargs):\n",
    "        FancyArrowPatch.__init__(self, (0,0), (0,0), *args, **kwargs)\n",
    "        self._verts3d = xs, ys, zs\n",
    "\n",
    "    def draw(self, renderer):\n",
    "        xs3d, ys3d, zs3d = self._verts3d\n",
    "        xs, ys, zs = proj3d.proj_transform(xs3d, ys3d, zs3d, renderer.M)\n",
    "        self.set_positions((xs[0],ys[0]),(xs[1],ys[1]))\n",
    "        FancyArrowPatch.draw(self, renderer)\n",
    "\n",
    "fig = plt.figure(figsize=(7,7))\n",
    "ax = fig.add_subplot(111, projection='3d')\n",
    "\n",
    "ax.plot(all_samples[0,:], all_samples[1,:], all_samples[2,:], 'o', markersize=8, color='green', alpha=0.2)\n",
    "ax.plot([mean_x], [mean_y], [mean_z], 'o', markersize=10, color='red', alpha=0.5)\n",
    "for v in eig_vec_sc.T:\n",
    "    a = Arrow3D([mean_x, v[0]], [mean_y, v[1]], [mean_z, v[2]], mutation_scale=20, lw=3, arrowstyle=\"-|>\", color=\"r\")\n",
    "    ax.add_artist(a)\n",
    "ax.set_xlabel('x_values')\n",
    "ax.set_ylabel('y_values')\n",
    "ax.set_zlabel('z_values')\n",
    "\n",
    "plt.title('Eigenvectors')\n",
    "\n",
    "plt.show()"
   ]
  },
  {
   "cell_type": "code",
   "execution_count": 16,
   "metadata": {},
   "outputs": [],
   "source": [
    "for ev in eig_vec_sc:\n",
    "    numpy.testing.assert_array_almost_equal(1.0, np.linalg.norm(ev))\n",
    "    # instead of 'assert' because of rounding errors"
   ]
  },
  {
   "cell_type": "code",
   "execution_count": 17,
   "metadata": {},
   "outputs": [
    {
     "name": "stdout",
     "output_type": "stream",
     "text": [
      "61.55908168251448\n",
      "37.42310220227206\n",
      "35.37337066367772\n"
     ]
    }
   ],
   "source": [
    "# Make a list of (eigenvalue, eigenvector) tuples\n",
    "eig_pairs = [(np.abs(eig_val_sc[i]), eig_vec_sc[:,i]) for i in range(len(eig_val_sc))]\n",
    "\n",
    "# Sort the (eigenvalue, eigenvector) tuples from high to low\n",
    "eig_pairs.sort(key=lambda x: x[0], reverse=True)\n",
    "\n",
    "# Visually confirm that the list is correctly sorted by decreasing eigenvalues\n",
    "for i in eig_pairs:\n",
    "    print(i[0])"
   ]
  },
  {
   "cell_type": "code",
   "execution_count": 18,
   "metadata": {},
   "outputs": [
    {
     "name": "stdout",
     "output_type": "stream",
     "text": [
      "Matrix W:\n",
      " [[ 0.78863822  0.58890399]\n",
      " [ 0.49474883 -0.77847972]\n",
      " [ 0.36506624 -0.21716678]]\n"
     ]
    }
   ],
   "source": [
    "matrix_w = np.hstack((eig_pairs[0][1].reshape(3,1), eig_pairs[1][1].reshape(3,1)))\n",
    "print('Matrix W:\\n', matrix_w)"
   ]
  }
 ],
 "metadata": {
  "kernelspec": {
   "display_name": "Python 3",
   "language": "python",
   "name": "python3"
  },
  "language_info": {
   "codemirror_mode": {
    "name": "ipython",
    "version": 3
   },
   "file_extension": ".py",
   "mimetype": "text/x-python",
   "name": "python",
   "nbconvert_exporter": "python",
   "pygments_lexer": "ipython3",
   "version": "3.7.3"
  },
  "toc": {
   "base_numbering": 1,
   "nav_menu": {},
   "number_sections": true,
   "sideBar": true,
   "skip_h1_title": false,
   "title_cell": "Table of Contents",
   "title_sidebar": "Contents",
   "toc_cell": false,
   "toc_position": {},
   "toc_section_display": true,
   "toc_window_display": false
  },
  "varInspector": {
   "cols": {
    "lenName": 16,
    "lenType": 16,
    "lenVar": 40
   },
   "kernels_config": {
    "python": {
     "delete_cmd_postfix": "",
     "delete_cmd_prefix": "del ",
     "library": "var_list.py",
     "varRefreshCmd": "print(var_dic_list())"
    },
    "r": {
     "delete_cmd_postfix": ") ",
     "delete_cmd_prefix": "rm(",
     "library": "var_list.r",
     "varRefreshCmd": "cat(var_dic_list()) "
    }
   },
   "types_to_exclude": [
    "module",
    "function",
    "builtin_function_or_method",
    "instance",
    "_Feature"
   ],
   "window_display": false
  }
 },
 "nbformat": 4,
 "nbformat_minor": 2
}
