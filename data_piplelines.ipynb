{
 "cells": [
  {
   "cell_type": "markdown",
   "metadata": {},
   "source": [
    "# Mini Project"
   ]
  },
  {
   "cell_type": "markdown",
   "metadata": {},
   "source": [
    "This project has been carried out as an academic part of Integrify, a start up in Helsinki region. In this mini project we are focusing on data cleaning by using pandas data pipeline. This is a group work by Md Shamsuzzaman, Ela Kapoor and Divya\n"
   ]
  },
  {
   "cell_type": "code",
   "execution_count": 15,
   "metadata": {},
   "outputs": [],
   "source": [
    "# importing the modules\n",
    "import pandas as pd\n",
    "import numpy as np\n",
    "import pprint\n",
    "import re"
   ]
  },
  {
   "cell_type": "code",
   "execution_count": 16,
   "metadata": {},
   "outputs": [
    {
     "data": {
      "text/html": [
       "<div>\n",
       "<style scoped>\n",
       "    .dataframe tbody tr th:only-of-type {\n",
       "        vertical-align: middle;\n",
       "    }\n",
       "\n",
       "    .dataframe tbody tr th {\n",
       "        vertical-align: top;\n",
       "    }\n",
       "\n",
       "    .dataframe thead th {\n",
       "        text-align: right;\n",
       "    }\n",
       "</style>\n",
       "<table border=\"1\" class=\"dataframe\">\n",
       "  <thead>\n",
       "    <tr style=\"text-align: right;\">\n",
       "      <th></th>\n",
       "      <th>a</th>\n",
       "      <th>b</th>\n",
       "      <th>c</th>\n",
       "    </tr>\n",
       "  </thead>\n",
       "  <tbody>\n",
       "    <tr>\n",
       "      <th>0</th>\n",
       "      <td>9.0</td>\n",
       "      <td>6.0</td>\n",
       "      <td>8.0</td>\n",
       "    </tr>\n",
       "    <tr>\n",
       "      <th>1</th>\n",
       "      <td>2.0</td>\n",
       "      <td>3.0</td>\n",
       "      <td>NaN</td>\n",
       "    </tr>\n",
       "    <tr>\n",
       "      <th>2</th>\n",
       "      <td>NaN</td>\n",
       "      <td>NaN</td>\n",
       "      <td>4.0</td>\n",
       "    </tr>\n",
       "    <tr>\n",
       "      <th>3</th>\n",
       "      <td>NaN</td>\n",
       "      <td>4.0</td>\n",
       "      <td>7.0</td>\n",
       "    </tr>\n",
       "  </tbody>\n",
       "</table>\n",
       "</div>"
      ],
      "text/plain": [
       "     a    b    c\n",
       "0  9.0  6.0  8.0\n",
       "1  2.0  3.0  NaN\n",
       "2  NaN  NaN  4.0\n",
       "3  NaN  4.0  7.0"
      ]
     },
     "execution_count": 16,
     "metadata": {},
     "output_type": "execute_result"
    }
   ],
   "source": [
    "# creating the sample dataframe\n",
    "df = pd.DataFrame({'a':[9,2,np.nan, np.nan], 'b':[6,3,np.nan, 4],'c':[8,np.nan,4, 7]})\n",
    "df"
   ]
  },
  {
   "cell_type": "code",
   "execution_count": 17,
   "metadata": {},
   "outputs": [],
   "source": [
    "#implementing the steps of data pipeline as indicated\n",
    "axis = 1\n",
    "kwargs = {'input_':df,'step_1':pd.DataFrame.dropna, 'arg_1':{'axis':axis,'thresh':3},\n",
    "    'step_2':pd.DataFrame.dropna, 'arg_2':{'axis':1,'thresh':1},\n",
    "'step_3':pd.DataFrame.dropna, 'arg_3':{'axis':1,'thresh':1}}"
   ]
  },
  {
   "cell_type": "code",
   "execution_count": 21,
   "metadata": {},
   "outputs": [],
   "source": [
    "# function depecting the process of data pipe process\n",
    "\n",
    "def dictionary_apply_kwarg_funs(**kwargs):\n",
    "    \n",
    "    dict_keys = kwargs.keys()\n",
    "    steps = ' '.join(dict_keys)\n",
    "    how_many_steps= re.findall('step_',steps)\n",
    "    intermediate = kwargs['input_']\n",
    "    output_ = {}  # dictionary to hold the ouput from each steps\n",
    "    #return how_many_steps\n",
    "    #print(intermediate)\n",
    "    \n",
    "    \n",
    "    if intermediate is not None:\n",
    "        for i in range(1,len(how_many_steps)+1):\n",
    "            step_ID = f'step_{i}'\n",
    "            fun_, arg_dict_ = recognize_step_i(i, **kwargs)\n",
    "            print(f'We are currently in step {i} in data pipeline \\n')\n",
    "            print(f'The function name is {fun_.__name__}')\n",
    "            print(f'The doctring of function is {fun_.__doc__[:50]}')\n",
    "            intermediate = fun_(intermediate, **arg_dict_)\n",
    "            output_[step_ID] = intermediate\n",
    "            print('\\n\\n')\n",
    "        return output_\n",
    "    else:\n",
    "        print('Input data is Empty')"
   ]
  },
  {
   "cell_type": "code",
   "execution_count": 22,
   "metadata": {},
   "outputs": [
    {
     "name": "stdout",
     "output_type": "stream",
     "text": [
      "We are currently in step 1 in data pipeline \n",
      "\n",
      "The function name is dropna\n",
      "The doctring of function is \n",
      "        Remove missing values.\n",
      "\n",
      "        See the :\n",
      "\n",
      "\n",
      "\n",
      "We are currently in step 2 in data pipeline \n",
      "\n",
      "The function name is dropna\n",
      "The doctring of function is \n",
      "        Remove missing values.\n",
      "\n",
      "        See the :\n",
      "\n",
      "\n",
      "\n",
      "We are currently in step 3 in data pipeline \n",
      "\n",
      "The function name is dropna\n",
      "The doctring of function is \n",
      "        Remove missing values.\n",
      "\n",
      "        See the :\n",
      "\n",
      "\n",
      "\n",
      "step_1\n",
      "     b    c\n",
      "0  6.0  8.0\n",
      "1  3.0  NaN\n",
      "2  NaN  4.0\n",
      "3  4.0  7.0\n",
      "\n",
      "\n",
      "step_2\n",
      "     b    c\n",
      "0  6.0  8.0\n",
      "1  3.0  NaN\n",
      "2  NaN  4.0\n",
      "3  4.0  7.0\n",
      "\n",
      "\n",
      "step_3\n",
      "     b    c\n",
      "0  6.0  8.0\n",
      "1  3.0  NaN\n",
      "2  NaN  4.0\n",
      "3  4.0  7.0\n",
      "\n",
      "\n"
     ]
    }
   ],
   "source": [
    "output = (dictionary_apply_kwarg_funs(**kwargs))\n",
    "keys = output.keys()\n",
    "for key in keys:\n",
    "    print(key)\n",
    "    print(output[key])\n",
    "    print('\\n')"
   ]
  },
  {
   "cell_type": "code",
   "execution_count": 20,
   "metadata": {},
   "outputs": [],
   "source": [
    "def recognize_step_i(i, **kwargs):\n",
    "    import re\n",
    "    from operator import itemgetter\n",
    "    fun_string = f'step_{i}'\n",
    "    arg_string = f'arg_{i}'\n",
    "    #print(kwargs[fun_string])\n",
    "    fnc =  itemgetter(fun_string)(kwargs)  # function to be applied\n",
    "    arg_dict = itemgetter(arg_string)(kwargs) # dictionary of arguments to be passed to function\n",
    "    return(fnc, arg_dict)\n",
    "   "
   ]
  },
  {
   "cell_type": "code",
   "execution_count": null,
   "metadata": {},
   "outputs": [],
   "source": []
  }
 ],
 "metadata": {
  "kernelspec": {
   "display_name": "Python 3",
   "language": "python",
   "name": "python3"
  },
  "language_info": {
   "codemirror_mode": {
    "name": "ipython",
    "version": 3
   },
   "file_extension": ".py",
   "mimetype": "text/x-python",
   "name": "python",
   "nbconvert_exporter": "python",
   "pygments_lexer": "ipython3",
   "version": "3.7.3"
  },
  "toc": {
   "base_numbering": 1,
   "nav_menu": {},
   "number_sections": true,
   "sideBar": true,
   "skip_h1_title": false,
   "title_cell": "Table of Contents",
   "title_sidebar": "Contents",
   "toc_cell": false,
   "toc_position": {},
   "toc_section_display": true,
   "toc_window_display": false
  },
  "varInspector": {
   "cols": {
    "lenName": 16,
    "lenType": 16,
    "lenVar": 40
   },
   "kernels_config": {
    "python": {
     "delete_cmd_postfix": "",
     "delete_cmd_prefix": "del ",
     "library": "var_list.py",
     "varRefreshCmd": "print(var_dic_list())"
    },
    "r": {
     "delete_cmd_postfix": ") ",
     "delete_cmd_prefix": "rm(",
     "library": "var_list.r",
     "varRefreshCmd": "cat(var_dic_list()) "
    }
   },
   "types_to_exclude": [
    "module",
    "function",
    "builtin_function_or_method",
    "instance",
    "_Feature"
   ],
   "window_display": false
  }
 },
 "nbformat": 4,
 "nbformat_minor": 2
}
