{
 "cells": [
  {
   "cell_type": "code",
   "execution_count": 6,
   "metadata": {},
   "outputs": [],
   "source": [
    "import pandas as pd\n",
    "import numpy as np \n",
    "from math import gcd\n",
    "from functools import reduce"
   ]
  },
  {
   "cell_type": "code",
   "execution_count": 9,
   "metadata": {},
   "outputs": [
    {
     "name": "stdout",
     "output_type": "stream",
     "text": [
      "[2, 6, 8, 4, 6, 2]\n",
      "[6, 4, 12, 16, 8, 12, 4, 18]\n",
      "40\n"
     ]
    }
   ],
   "source": [
    "#TASK 1\n",
    "\n",
    "#Take any arbitary list of integers that we need to perform functions on.\n",
    "nums = [3, 2, 6, 8, 4, 6, 2, 9]\n",
    "\n",
    "\n",
    "#The functions that we will apply on the list of integer are:-\n",
    "#1.) Filter\n",
    "#2.) Map\n",
    "#3.) Reduce\n",
    "\n",
    "# The first function is to filter the even number from the list of the integers.\n",
    "# Since we will get multiple output so we used the list function to contain them. Next we used the filter function\n",
    "# to perform our task. The lambda function is defined which states that any number having modulous of two as zero\n",
    "# must be taken. With the help of lambda function we can reduce the computational task for the code that is to be\n",
    "# used only once.\n",
    "evens = list(filter(lambda n : n%2 == 0, nums))\n",
    "print(evens)\n",
    "\n",
    "\n",
    "\n",
    "# The next is to map the double of the integer in the nums list. Now either we can write pure function or use lambda\n",
    "# function instead. The map function will help us to change every single value in the list.\n",
    "doubles = list(map(lambda n : n * 2, nums))\n",
    "print(doubles)\n",
    "\n",
    "\n",
    "\n",
    "#With the help of reduce function instead of having multiple value reduce will give only one value. Since \n",
    "#we are expecting only one value so we will not use list. \n",
    "sums = reduce(lambda a,b: a+b, nums ) \n",
    "print(sums)"
   ]
  },
  {
   "cell_type": "code",
   "execution_count": 8,
   "metadata": {},
   "outputs": [
    {
     "name": "stdout",
     "output_type": "stream",
     "text": [
      "3\n"
     ]
    }
   ],
   "source": [
    "#TASK 2\n",
    "\n",
    "#the Greatest Common Divisor (GCD) of two integers A and B is the largest integer that divides both A and B.\n",
    "# The lambda function is taken to find the gcd of the list A\n",
    "\n",
    "\n",
    "A = [12, 24, 27, 30, 36]\n",
    "gcd = reduce(lambda x,y:gcd(x,y),A)# (name of integers, function name, list) this is the syntax\n",
    "print(gcd)"
   ]
  },
  {
   "cell_type": "code",
   "execution_count": 39,
   "metadata": {},
   "outputs": [
    {
     "name": "stdout",
     "output_type": "stream",
     "text": [
      "animal [('animal', 'bear'), ('animal', 'duck')]\n",
      " \n",
      "plant [('plant', 'cactus')]\n",
      " \n",
      "vehicle [('vehicle', 'speed boat'), ('vehicle', 'school bus')]\n",
      " \n"
     ]
    }
   ],
   "source": [
    "#TASK 3\n",
    "\n",
    "# Any arbitary list of tuple is taken.\n",
    "arg_data = [(\"animal\", \"bear\"), (\"animal\", \"duck\"), (\"plant\", \"cactus\"), (\"vehicle\", \"speed boat\"), \n",
    "              (\"vehicle\", \"school bus\")]\n",
    "\n",
    "# Using the lambda function the 0 index element in tuple assigned to arg_data is taken and assigned the variable as \n",
    "# key.\n",
    "# The groupby generates a break or new group every time the value of the key function changes.\n",
    "sorted_data = groupby(arg_data, key = lambda x: x[0])\n",
    "\n",
    "\n",
    "grouped_data = groupby(arg_data, key = lambda x: x[0])\n",
    "for key, thing in grouped_data:\n",
    "    print (key, list(thing))\n",
    "    print (\" \")\n",
    "\n"
   ]
  },
  {
   "cell_type": "code",
   "execution_count": 37,
   "metadata": {},
   "outputs": [
    {
     "name": "stdout",
     "output_type": "stream",
     "text": [
      "animal [('animal', 'bear'), ('animal', 'duck')]\n",
      " \n",
      "plant [('plant', 'cactus')]\n",
      " \n",
      "vehicle [('vehicle', 'speed boat'), ('vehicle', 'school bus')]\n",
      " \n"
     ]
    }
   ],
   "source": [
    "\n",
    "\n",
    "\n",
    "from itertools import groupby\n",
    "\n",
    "def ensure_sourted_grouper(func):\n",
    "    def inner(*args, **kwargs):\n",
    "        if kwargs['verify_sorted']==True:\n",
    "            sorted_data = sorted(*args, key = lambda x:(x[0]))\n",
    "            func(sorted_data, **kwargs)\n",
    "        else:\n",
    "            print('You didn’t enforce the order')\n",
    "    return inner\n",
    "\n",
    "\n",
    "# name of the decorator\n",
    "@ensure_sourted_grouper \n",
    "\n",
    "# the name of the function which contain the tuples list.\n",
    "def groupby_demonstrator(arg_data, **verify_sorted):#(the list name, kwarg related variable named verify_sorted)\n",
    "    \n",
    "    grouped_data = groupby(arg_data, key = lambda x: x[0]) \n",
    "    for key, thing in grouped_data: \n",
    "        print (key, list(thing)) #(the name of key, list of tuple related to that key)\n",
    "        print (\" \") #(The space between the lines)\n",
    "\n",
    "arg_data = [(\"animal\", \"bear\"), (\"animal\", \"duck\"), (\"plant\", \"cactus\"), (\"vehicle\", \"speed boat\"), \n",
    "              (\"vehicle\", \"school bus\")]\n",
    "groupby_demonstrator(arg_data, verify_sorted=True) # verifying the condition"
   ]
  },
  {
   "cell_type": "markdown",
   "metadata": {},
   "source": [
    "#"
   ]
  }
 ],
 "metadata": {
  "kernelspec": {
   "display_name": "Python 3",
   "language": "python",
   "name": "python3"
  },
  "language_info": {
   "codemirror_mode": {
    "name": "ipython",
    "version": 3
   },
   "file_extension": ".py",
   "mimetype": "text/x-python",
   "name": "python",
   "nbconvert_exporter": "python",
   "pygments_lexer": "ipython3",
   "version": "3.7.3"
  },
  "toc": {
   "base_numbering": 1,
   "nav_menu": {},
   "number_sections": true,
   "sideBar": true,
   "skip_h1_title": false,
   "title_cell": "Table of Contents",
   "title_sidebar": "Contents",
   "toc_cell": false,
   "toc_position": {},
   "toc_section_display": true,
   "toc_window_display": false
  },
  "varInspector": {
   "cols": {
    "lenName": 16,
    "lenType": 16,
    "lenVar": 40
   },
   "kernels_config": {
    "python": {
     "delete_cmd_postfix": "",
     "delete_cmd_prefix": "del ",
     "library": "var_list.py",
     "varRefreshCmd": "print(var_dic_list())"
    },
    "r": {
     "delete_cmd_postfix": ") ",
     "delete_cmd_prefix": "rm(",
     "library": "var_list.r",
     "varRefreshCmd": "cat(var_dic_list()) "
    }
   },
   "types_to_exclude": [
    "module",
    "function",
    "builtin_function_or_method",
    "instance",
    "_Feature"
   ],
   "window_display": false
  }
 },
 "nbformat": 4,
 "nbformat_minor": 2
}
